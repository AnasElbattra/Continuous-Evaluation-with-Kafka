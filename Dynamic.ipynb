{
 "cells": [
  {
   "cell_type": "code",
   "execution_count": 1,
   "metadata": {},
   "outputs": [],
   "source": [
    "from kafka import KafkaConsumer\n",
    "import pandas as pd\n",
    "import pickle\n",
    "from sklearn.metrics import f1_score\n",
    "import matplotlib.pyplot as plt\n",
    "from sklearn.preprocessing import StandardScaler"
   ]
  },
  {
   "cell_type": "markdown",
   "metadata": {},
   "source": [
    "### Load pickled pipline XGBoost models from pickel file\n"
   ]
  },
  {
   "cell_type": "code",
   "execution_count": 2,
   "metadata": {},
   "outputs": [],
   "source": [
    "with open(r'xgp_mutual.pkl', 'rb') as file:\n",
    "    static_model = pickle.load(file)\n",
    "with open(r'D:/ass3Cv/xgp_mutual.pkl', 'rb') as file:\n",
    "    dynamic_model  = pickle.load(file)"
   ]
  },
  {
   "cell_type": "code",
   "execution_count": 3,
   "metadata": {},
   "outputs": [],
   "source": [
    "static_model_performance = []\n",
    "dynamic_model_performance = []"
   ]
  },
  {
   "cell_type": "markdown",
   "metadata": {},
   "source": [
    "### Function to clear 1000 rows of messages\n"
   ]
  },
  {
   "cell_type": "code",
   "execution_count": 4,
   "metadata": {},
   "outputs": [],
   "source": [
    "def clear_1000_row(c):\n",
    "    messages = []\n",
    "    for message in c:\n",
    "        decoded_message = message.value.decode(\"utf-8\").strip(\"\\n\").strip('\"')\n",
    "        message_values = decoded_message.split(\",\")\n",
    "        message_values[-1] = int(message_values[-1].strip(r\"\\n\"))\n",
    "\n",
    "        messages.append(message_values)\n",
    "        if len(messages) >= 1000:\n",
    "                break\n",
    "\n",
    "    return messages"
   ]
  },
  {
   "cell_type": "markdown",
   "metadata": {},
   "source": [
    "### The top features from mutual_info in static model job "
   ]
  },
  {
   "cell_type": "code",
   "execution_count": 5,
   "metadata": {},
   "outputs": [],
   "source": [
    "top_features =['sld', 'longest_word', 'labels', 'special', 'entropy', 'FQDN_count']"
   ]
  },
  {
   "cell_type": "markdown",
   "metadata": {},
   "source": [
    "### Evaluate and retrain models based on performance\n"
   ]
  },
  {
   "cell_type": "code",
   "execution_count": 6,
   "metadata": {},
   "outputs": [],
   "source": [
    "\n",
    "from sklearn.preprocessing import MinMaxScaler\n",
    "def evaluate_and_retrain_model(df, dynamic_model,static_model):\n",
    "    X = df.drop(\"Target Attack\", axis=1)\n",
    "    y = df[\"Target Attack\"]\n",
    "    X = X[top_features]\n",
    "    \n",
    "    df = pd.concat([X, y], axis=1)\n",
    "    df.to_csv('merged_data.csv', index=False)\n",
    "    static_prediction = static_model.predict(X)\n",
    "    dynamic_prediction = dynamic_model.predict(X)\n",
    "\n",
    "    static_accuracy = f1_score(y, static_prediction,average='weighted')\n",
    "    dynamic_accuracy = f1_score(y, dynamic_prediction,average='weighted')\n",
    "    static_model_performance.append(static_accuracy)\n",
    "    print(f\"static_accuracy: {static_accuracy}\")\n",
    "    print(f\"before {dynamic_accuracy}\")\n",
    "    if dynamic_accuracy < .79:  \n",
    "        dynamic_model.fit(X, y) \n",
    "        dynamic_prediction = dynamic_model.predict(X)\n",
    "        dynamic_accuracy = f1_score(y, dynamic_prediction,average='weighted')\n",
    "        print(f\"after: {dynamic_accuracy}\")\n",
    "\n",
    "    dynamic_model_performance.append(dynamic_accuracy)    \n",
    "\n",
    "    return dynamic_model"
   ]
  },
  {
   "cell_type": "markdown",
   "metadata": {},
   "source": [
    "### Kafka Consumer initialization\n"
   ]
  },
  {
   "cell_type": "code",
   "execution_count": 7,
   "metadata": {},
   "outputs": [],
   "source": [
    "consumer = KafkaConsumer(\n",
    "    'ml-raw-dns',\n",
    "    bootstrap_servers=\"localhost:9092\",\n",
    "    auto_offset_reset='earliest',\n",
    "    enable_auto_commit=False\n",
    ")"
   ]
  },
  {
   "cell_type": "markdown",
   "metadata": {},
   "source": [
    "### Clear First Row because I will use the header manualy  "
   ]
  },
  {
   "cell_type": "code",
   "execution_count": 8,
   "metadata": {},
   "outputs": [],
   "source": [
    "for message in consumer:\n",
    "    break"
   ]
  },
  {
   "cell_type": "code",
   "execution_count": 10,
   "metadata": {},
   "outputs": [],
   "source": [
    "column_names = [\"timestamp\", \"FQDN_count\", \"subdomain_length\", \"upper\", \"lower\", \"numeric\", \n",
    "                    \"entropy\", \"special\", \"labels\", \"labels_max\", \"labels_average\",\n",
    "                    \"longest_word\", \"sld\", \"len\", \"subdomain\", \"Target Attack\"]"
   ]
  },
  {
   "cell_type": "markdown",
   "metadata": {},
   "source": [
    "### Preprocessing function to drop timestamp, apply hash to 'longest_word' and 'sld' columns\n"
   ]
  },
  {
   "cell_type": "code",
   "execution_count": 9,
   "metadata": {},
   "outputs": [],
   "source": [
    "def  preprocessing (df):\n",
    "    df.drop(\"timestamp\",axis=1,inplace=True)\n",
    "    df['longest_word'] = df['longest_word'].apply(hash)\n",
    "    df['sld'] = df['sld'].apply(hash)\n",
    "    return df"
   ]
  },
  {
   "cell_type": "markdown",
   "metadata": {},
   "source": [
    "### Function to consume messages, create DataFrame that contain 1000 row, and apply preprocessing\n"
   ]
  },
  {
   "cell_type": "code",
   "execution_count": 11,
   "metadata": {},
   "outputs": [],
   "source": [
    "def consume_messages():\n",
    "    df = pd.DataFrame(clear_1000_row(consumer), columns=column_names)\n",
    "    df = preprocessing(df)\n",
    "    return df"
   ]
  },
  {
   "cell_type": "markdown",
   "metadata": {},
   "source": [
    "### Execute a loop 260 times to assess the model on 260,000 records from the Kafka dataset. Each iteration should handle a data frame containing 1,000 rows\n"
   ]
  },
  {
   "cell_type": "code",
   "execution_count": 12,
   "metadata": {},
   "outputs": [
    {
     "name": "stdout",
     "output_type": "stream",
     "text": [
      "static_accuracy: 0.8047530736133978\n",
      "before 0.8047530736133978\n",
      "static_accuracy: 0.7985770913770914\n",
      "before 0.7985770913770914\n",
      "static_accuracy: 0.7766792212622768\n",
      "before 0.7766792212622768\n",
      "after: 0.7872631444252021\n",
      "static_accuracy: 0.8031104795597228\n",
      "before 0.8016011926362557\n"
     ]
    },
    {
     "name": "stderr",
     "output_type": "stream",
     "text": [
      "c:\\Users\\Anas\\AppData\\Local\\Programs\\Python\\Python311\\Lib\\site-packages\\xgboost\\core.py:160: UserWarning: [19:59:43] WARNING: C:\\buildkite-agent\\builds\\buildkite-windows-cpu-autoscaling-group-i-07f6e447eee219473-1\\xgboost\\xgboost-ci-windows\\src\\learner.cc:742: \n",
      "Parameters: { \"min_samples_leaf\", \"min_samples_split\" } are not used.\n",
      "\n",
      "  warnings.warn(smsg, UserWarning)\n",
      "c:\\Users\\Anas\\AppData\\Local\\Programs\\Python\\Python311\\Lib\\site-packages\\xgboost\\core.py:160: UserWarning: [19:59:43] WARNING: C:\\buildkite-agent\\builds\\buildkite-windows-cpu-autoscaling-group-i-07f6e447eee219473-1\\xgboost\\xgboost-ci-windows\\src\\learner.cc:742: \n",
      "Parameters: { \"min_samples_leaf\", \"min_samples_split\" } are not used.\n",
      "\n",
      "  warnings.warn(smsg, UserWarning)\n"
     ]
    },
    {
     "name": "stdout",
     "output_type": "stream",
     "text": [
      "static_accuracy: 0.7865458849677649\n",
      "before 0.7892158288008947\n",
      "after: 0.8021655474089512\n",
      "static_accuracy: 0.7926669747666143\n",
      "before 0.7908189258600428\n",
      "static_accuracy: 0.7870887012352571\n",
      "before 0.7957274679700809\n",
      "static_accuracy: 0.7897967303358694\n",
      "before 0.7943290752265532\n",
      "static_accuracy: 0.7978747173224785\n",
      "before 0.7962190318158863\n",
      "static_accuracy: 0.8095476460578559\n",
      "before 0.8132210905646252\n",
      "static_accuracy: 0.7972032533582053\n",
      "before 0.8042669472143446\n",
      "static_accuracy: 0.805491004158306\n",
      "before 0.8087405959941377\n",
      "static_accuracy: 0.796695577494547\n",
      "before 0.7947934466832726\n",
      "static_accuracy: 0.7908003528355076\n",
      "before 0.7871292104119046\n",
      "after: 0.7951522381620106\n",
      "static_accuracy: 0.8049790680095521\n",
      "before 0.8093528580671571\n"
     ]
    },
    {
     "name": "stderr",
     "output_type": "stream",
     "text": [
      "c:\\Users\\Anas\\AppData\\Local\\Programs\\Python\\Python311\\Lib\\site-packages\\xgboost\\core.py:160: UserWarning: [19:59:44] WARNING: C:\\buildkite-agent\\builds\\buildkite-windows-cpu-autoscaling-group-i-07f6e447eee219473-1\\xgboost\\xgboost-ci-windows\\src\\learner.cc:742: \n",
      "Parameters: { \"min_samples_leaf\", \"min_samples_split\" } are not used.\n",
      "\n",
      "  warnings.warn(smsg, UserWarning)\n",
      "c:\\Users\\Anas\\AppData\\Local\\Programs\\Python\\Python311\\Lib\\site-packages\\xgboost\\core.py:160: UserWarning: [19:59:44] WARNING: C:\\buildkite-agent\\builds\\buildkite-windows-cpu-autoscaling-group-i-07f6e447eee219473-1\\xgboost\\xgboost-ci-windows\\src\\learner.cc:742: \n",
      "Parameters: { \"min_samples_leaf\", \"min_samples_split\" } are not used.\n",
      "\n",
      "  warnings.warn(smsg, UserWarning)\n"
     ]
    },
    {
     "name": "stdout",
     "output_type": "stream",
     "text": [
      "static_accuracy: 0.8055886409736308\n",
      "before 0.8055692373372366\n",
      "static_accuracy: 0.7833155727155726\n",
      "before 0.7864695933556249\n",
      "after: 0.7913242638965328\n",
      "static_accuracy: 0.7751618940066146\n",
      "before 0.7742186640066043\n",
      "after: 0.7827242020549536\n",
      "static_accuracy: 0.8219358487770848\n",
      "before 0.8236703527927532\n"
     ]
    },
    {
     "name": "stderr",
     "output_type": "stream",
     "text": [
      "c:\\Users\\Anas\\AppData\\Local\\Programs\\Python\\Python311\\Lib\\site-packages\\xgboost\\core.py:160: UserWarning: [19:59:44] WARNING: C:\\buildkite-agent\\builds\\buildkite-windows-cpu-autoscaling-group-i-07f6e447eee219473-1\\xgboost\\xgboost-ci-windows\\src\\learner.cc:742: \n",
      "Parameters: { \"min_samples_leaf\", \"min_samples_split\" } are not used.\n",
      "\n",
      "  warnings.warn(smsg, UserWarning)\n"
     ]
    },
    {
     "name": "stdout",
     "output_type": "stream",
     "text": [
      "static_accuracy: 0.8077948717948717\n",
      "before 0.8061339283160274\n",
      "static_accuracy: 0.7892543855436345\n",
      "before 0.7957215787215787\n",
      "static_accuracy: 0.8099945867593674\n",
      "before 0.8133118464501926\n",
      "static_accuracy: 0.7862971627220094\n",
      "before 0.7919871963058193\n",
      "static_accuracy: 0.7960848019904624\n",
      "before 0.7954791463462213\n",
      "static_accuracy: 0.8011274743492285\n",
      "before 0.8030418390804599\n",
      "static_accuracy: 0.8003278587420539\n",
      "before 0.8051224295520876\n",
      "static_accuracy: 0.7956263888888888\n",
      "before 0.7955258789558612\n",
      "static_accuracy: 0.8053468624765543\n",
      "before 0.8019714919227114\n",
      "static_accuracy: 0.8022478193337829\n",
      "before 0.807534730127018\n",
      "static_accuracy: 0.7924453846696283\n",
      "before 0.7952904584151715\n",
      "static_accuracy: 0.7822168934998263\n",
      "before 0.7869597597597597\n"
     ]
    },
    {
     "name": "stderr",
     "output_type": "stream",
     "text": [
      "c:\\Users\\Anas\\AppData\\Local\\Programs\\Python\\Python311\\Lib\\site-packages\\xgboost\\core.py:160: UserWarning: [19:59:44] WARNING: C:\\buildkite-agent\\builds\\buildkite-windows-cpu-autoscaling-group-i-07f6e447eee219473-1\\xgboost\\xgboost-ci-windows\\src\\learner.cc:742: \n",
      "Parameters: { \"min_samples_leaf\", \"min_samples_split\" } are not used.\n",
      "\n",
      "  warnings.warn(smsg, UserWarning)\n",
      "c:\\Users\\Anas\\AppData\\Local\\Programs\\Python\\Python311\\Lib\\site-packages\\xgboost\\core.py:160: UserWarning: [19:59:45] WARNING: C:\\buildkite-agent\\builds\\buildkite-windows-cpu-autoscaling-group-i-07f6e447eee219473-1\\xgboost\\xgboost-ci-windows\\src\\learner.cc:742: \n",
      "Parameters: { \"min_samples_leaf\", \"min_samples_split\" } are not used.\n",
      "\n",
      "  warnings.warn(smsg, UserWarning)\n"
     ]
    },
    {
     "name": "stdout",
     "output_type": "stream",
     "text": [
      "after: 0.7904313523942905\n",
      "static_accuracy: 0.7751081029406142\n",
      "before 0.7754087456383215\n",
      "after: 0.782768321279825\n",
      "static_accuracy: 0.8197228907528988\n",
      "before 0.8177962913784455\n",
      "static_accuracy: 0.797660685541944\n",
      "before 0.7978356318580176\n",
      "static_accuracy: 0.8009813333333333\n",
      "before 0.7990703764320786\n",
      "static_accuracy: 0.7898353462851103\n",
      "before 0.7914150943396225\n",
      "static_accuracy: 0.822886949795645\n",
      "before 0.8164181847419081\n",
      "static_accuracy: 0.797739580468112\n",
      "before 0.8011232391650882\n",
      "static_accuracy: 0.79374718896996\n",
      "before 0.785728420995347\n",
      "after: 0.8008375924857007\n",
      "static_accuracy: 0.8036564618861722\n",
      "before 0.8082617854368839\n",
      "static_accuracy: 0.7895829004179834\n",
      "before 0.7891377980260826\n"
     ]
    },
    {
     "name": "stderr",
     "output_type": "stream",
     "text": [
      "c:\\Users\\Anas\\AppData\\Local\\Programs\\Python\\Python311\\Lib\\site-packages\\xgboost\\core.py:160: UserWarning: [19:59:45] WARNING: C:\\buildkite-agent\\builds\\buildkite-windows-cpu-autoscaling-group-i-07f6e447eee219473-1\\xgboost\\xgboost-ci-windows\\src\\learner.cc:742: \n",
      "Parameters: { \"min_samples_leaf\", \"min_samples_split\" } are not used.\n",
      "\n",
      "  warnings.warn(smsg, UserWarning)\n",
      "c:\\Users\\Anas\\AppData\\Local\\Programs\\Python\\Python311\\Lib\\site-packages\\xgboost\\core.py:160: UserWarning: [19:59:45] WARNING: C:\\buildkite-agent\\builds\\buildkite-windows-cpu-autoscaling-group-i-07f6e447eee219473-1\\xgboost\\xgboost-ci-windows\\src\\learner.cc:742: \n",
      "Parameters: { \"min_samples_leaf\", \"min_samples_split\" } are not used.\n",
      "\n",
      "  warnings.warn(smsg, UserWarning)\n"
     ]
    },
    {
     "name": "stdout",
     "output_type": "stream",
     "text": [
      "after: 0.7990823934612873\n",
      "static_accuracy: 0.7952383283570194\n",
      "before 0.797167650694621\n",
      "static_accuracy: 0.8057410097566561\n",
      "before 0.8052172204358699\n",
      "static_accuracy: 0.7927487819138571\n",
      "before 0.7947777561026362\n",
      "static_accuracy: 0.7895431612412744\n",
      "before 0.7936619846919973\n",
      "static_accuracy: 0.7984105668684645\n",
      "before 0.7960561611921093\n",
      "static_accuracy: 0.784298021978022\n",
      "before 0.7961435957981614\n",
      "static_accuracy: 0.8178248109376186\n",
      "before 0.8269690352263875\n",
      "static_accuracy: 0.7932593220466442\n",
      "before 0.7966698979773551\n",
      "static_accuracy: 0.7964034067100215\n",
      "before 0.8019117498093861\n",
      "static_accuracy: 0.7931488529270045\n",
      "before 0.7939053489487021\n",
      "static_accuracy: 0.7911156410744904\n",
      "before 0.7947074513621213\n",
      "static_accuracy: 0.8057481218395176\n",
      "before 0.800773435906402\n",
      "static_accuracy: 0.7944541471701486\n",
      "before 0.7948271938512229\n",
      "static_accuracy: 0.7801243422334827\n",
      "before 0.7868184400447436\n"
     ]
    },
    {
     "name": "stderr",
     "output_type": "stream",
     "text": [
      "c:\\Users\\Anas\\AppData\\Local\\Programs\\Python\\Python311\\Lib\\site-packages\\xgboost\\core.py:160: UserWarning: [19:59:45] WARNING: C:\\buildkite-agent\\builds\\buildkite-windows-cpu-autoscaling-group-i-07f6e447eee219473-1\\xgboost\\xgboost-ci-windows\\src\\learner.cc:742: \n",
      "Parameters: { \"min_samples_leaf\", \"min_samples_split\" } are not used.\n",
      "\n",
      "  warnings.warn(smsg, UserWarning)\n",
      "c:\\Users\\Anas\\AppData\\Local\\Programs\\Python\\Python311\\Lib\\site-packages\\xgboost\\core.py:160: UserWarning: [19:59:46] WARNING: C:\\buildkite-agent\\builds\\buildkite-windows-cpu-autoscaling-group-i-07f6e447eee219473-1\\xgboost\\xgboost-ci-windows\\src\\learner.cc:742: \n",
      "Parameters: { \"min_samples_leaf\", \"min_samples_split\" } are not used.\n",
      "\n",
      "  warnings.warn(smsg, UserWarning)\n"
     ]
    },
    {
     "name": "stdout",
     "output_type": "stream",
     "text": [
      "after: 0.7959403533740365\n",
      "static_accuracy: 0.7948883606658972\n",
      "before 0.7923640079744015\n",
      "static_accuracy: 0.7816037735020785\n",
      "before 0.7804256341155655\n",
      "after: 0.7920099743620642\n",
      "static_accuracy: 0.8318852247140066\n",
      "before 0.8391279583229968\n",
      "static_accuracy: 0.8170809132996633\n",
      "before 0.8230276923076922\n",
      "static_accuracy: 0.8018790104030072\n",
      "before 0.8013036454085528\n",
      "static_accuracy: 0.7835541827454815\n",
      "before 0.7833610521607552\n",
      "after: 0.7932626052759686\n"
     ]
    },
    {
     "name": "stderr",
     "output_type": "stream",
     "text": [
      "c:\\Users\\Anas\\AppData\\Local\\Programs\\Python\\Python311\\Lib\\site-packages\\xgboost\\core.py:160: UserWarning: [19:59:46] WARNING: C:\\buildkite-agent\\builds\\buildkite-windows-cpu-autoscaling-group-i-07f6e447eee219473-1\\xgboost\\xgboost-ci-windows\\src\\learner.cc:742: \n",
      "Parameters: { \"min_samples_leaf\", \"min_samples_split\" } are not used.\n",
      "\n",
      "  warnings.warn(smsg, UserWarning)\n"
     ]
    },
    {
     "name": "stdout",
     "output_type": "stream",
     "text": [
      "static_accuracy: 0.7948292328789223\n",
      "before 0.7984417635574205\n",
      "static_accuracy: 0.8066008512269605\n",
      "before 0.8061578317108332\n",
      "static_accuracy: 0.7885081597313324\n",
      "before 0.7894985805395272\n",
      "after: 0.7980036883965158\n",
      "static_accuracy: 0.7864611440007118\n",
      "before 0.7860449512317489\n",
      "after: 0.7940679931647198\n",
      "static_accuracy: 0.8112799643664389\n",
      "before 0.8117250275178867\n"
     ]
    },
    {
     "name": "stderr",
     "output_type": "stream",
     "text": [
      "c:\\Users\\Anas\\AppData\\Local\\Programs\\Python\\Python311\\Lib\\site-packages\\xgboost\\core.py:160: UserWarning: [19:59:46] WARNING: C:\\buildkite-agent\\builds\\buildkite-windows-cpu-autoscaling-group-i-07f6e447eee219473-1\\xgboost\\xgboost-ci-windows\\src\\learner.cc:742: \n",
      "Parameters: { \"min_samples_leaf\", \"min_samples_split\" } are not used.\n",
      "\n",
      "  warnings.warn(smsg, UserWarning)\n",
      "c:\\Users\\Anas\\AppData\\Local\\Programs\\Python\\Python311\\Lib\\site-packages\\xgboost\\core.py:160: UserWarning: [19:59:46] WARNING: C:\\buildkite-agent\\builds\\buildkite-windows-cpu-autoscaling-group-i-07f6e447eee219473-1\\xgboost\\xgboost-ci-windows\\src\\learner.cc:742: \n",
      "Parameters: { \"min_samples_leaf\", \"min_samples_split\" } are not used.\n",
      "\n",
      "  warnings.warn(smsg, UserWarning)\n"
     ]
    },
    {
     "name": "stdout",
     "output_type": "stream",
     "text": [
      "static_accuracy: 0.7993401294112467\n",
      "before 0.8033530908015379\n",
      "static_accuracy: 0.7943214673391464\n",
      "before 0.7983361812040533\n",
      "static_accuracy: 0.7905840814870321\n",
      "before 0.7899505210742565\n",
      "after: 0.7996720038593187\n"
     ]
    },
    {
     "name": "stderr",
     "output_type": "stream",
     "text": [
      "c:\\Users\\Anas\\AppData\\Local\\Programs\\Python\\Python311\\Lib\\site-packages\\xgboost\\core.py:160: UserWarning: [19:59:46] WARNING: C:\\buildkite-agent\\builds\\buildkite-windows-cpu-autoscaling-group-i-07f6e447eee219473-1\\xgboost\\xgboost-ci-windows\\src\\learner.cc:742: \n",
      "Parameters: { \"min_samples_leaf\", \"min_samples_split\" } are not used.\n",
      "\n",
      "  warnings.warn(smsg, UserWarning)\n"
     ]
    },
    {
     "name": "stdout",
     "output_type": "stream",
     "text": [
      "static_accuracy: 0.8111931830439004\n",
      "before 0.8159932386747801\n",
      "static_accuracy: 0.8107217457866809\n",
      "before 0.8082395883457097\n",
      "static_accuracy: 0.7981643163984945\n",
      "before 0.7970837279823297\n",
      "static_accuracy: 0.7952876971061651\n",
      "before 0.7969997692833511\n",
      "static_accuracy: 0.7960544526375497\n",
      "before 0.7986778549678659\n",
      "static_accuracy: 0.7862357139258607\n",
      "before 0.7858155261266545\n",
      "after: 0.7913992277992278\n",
      "static_accuracy: 0.7898093503966666\n",
      "before 0.7862157014157014\n"
     ]
    },
    {
     "name": "stderr",
     "output_type": "stream",
     "text": [
      "c:\\Users\\Anas\\AppData\\Local\\Programs\\Python\\Python311\\Lib\\site-packages\\xgboost\\core.py:160: UserWarning: [19:59:46] WARNING: C:\\buildkite-agent\\builds\\buildkite-windows-cpu-autoscaling-group-i-07f6e447eee219473-1\\xgboost\\xgboost-ci-windows\\src\\learner.cc:742: \n",
      "Parameters: { \"min_samples_leaf\", \"min_samples_split\" } are not used.\n",
      "\n",
      "  warnings.warn(smsg, UserWarning)\n",
      "c:\\Users\\Anas\\AppData\\Local\\Programs\\Python\\Python311\\Lib\\site-packages\\xgboost\\core.py:160: UserWarning: [19:59:47] WARNING: C:\\buildkite-agent\\builds\\buildkite-windows-cpu-autoscaling-group-i-07f6e447eee219473-1\\xgboost\\xgboost-ci-windows\\src\\learner.cc:742: \n",
      "Parameters: { \"min_samples_leaf\", \"min_samples_split\" } are not used.\n",
      "\n",
      "  warnings.warn(smsg, UserWarning)\n"
     ]
    },
    {
     "name": "stdout",
     "output_type": "stream",
     "text": [
      "after: 0.799328356916469\n",
      "static_accuracy: 0.7751122080163997\n",
      "before 0.7764431378393146\n",
      "after: 0.7835656153143703\n",
      "static_accuracy: 0.7957672464648993\n",
      "before 0.7969554584524644\n",
      "static_accuracy: 0.8141652669724982\n",
      "before 0.817437430654751\n"
     ]
    },
    {
     "name": "stderr",
     "output_type": "stream",
     "text": [
      "c:\\Users\\Anas\\AppData\\Local\\Programs\\Python\\Python311\\Lib\\site-packages\\xgboost\\core.py:160: UserWarning: [19:59:47] WARNING: C:\\buildkite-agent\\builds\\buildkite-windows-cpu-autoscaling-group-i-07f6e447eee219473-1\\xgboost\\xgboost-ci-windows\\src\\learner.cc:742: \n",
      "Parameters: { \"min_samples_leaf\", \"min_samples_split\" } are not used.\n",
      "\n",
      "  warnings.warn(smsg, UserWarning)\n"
     ]
    },
    {
     "name": "stdout",
     "output_type": "stream",
     "text": [
      "static_accuracy: 0.7973614086398056\n",
      "before 0.8050003221109866\n",
      "static_accuracy: 0.8077212736022252\n",
      "before 0.8081048051654223\n",
      "static_accuracy: 0.80765862062934\n",
      "before 0.8101640030706958\n",
      "static_accuracy: 0.7887247825847293\n",
      "before 0.7919541734860884\n",
      "static_accuracy: 0.8059131086338114\n",
      "before 0.8055132656403536\n",
      "static_accuracy: 0.7935133406356436\n",
      "before 0.7961766456650303\n",
      "static_accuracy: 0.7903441981747067\n",
      "before 0.7894327047411416\n"
     ]
    },
    {
     "name": "stderr",
     "output_type": "stream",
     "text": [
      "c:\\Users\\Anas\\AppData\\Local\\Programs\\Python\\Python311\\Lib\\site-packages\\xgboost\\core.py:160: UserWarning: [19:59:47] WARNING: C:\\buildkite-agent\\builds\\buildkite-windows-cpu-autoscaling-group-i-07f6e447eee219473-1\\xgboost\\xgboost-ci-windows\\src\\learner.cc:742: \n",
      "Parameters: { \"min_samples_leaf\", \"min_samples_split\" } are not used.\n",
      "\n",
      "  warnings.warn(smsg, UserWarning)\n",
      "c:\\Users\\Anas\\AppData\\Local\\Programs\\Python\\Python311\\Lib\\site-packages\\xgboost\\core.py:160: UserWarning: [19:59:47] WARNING: C:\\buildkite-agent\\builds\\buildkite-windows-cpu-autoscaling-group-i-07f6e447eee219473-1\\xgboost\\xgboost-ci-windows\\src\\learner.cc:742: \n",
      "Parameters: { \"min_samples_leaf\", \"min_samples_split\" } are not used.\n",
      "\n",
      "  warnings.warn(smsg, UserWarning)\n"
     ]
    },
    {
     "name": "stdout",
     "output_type": "stream",
     "text": [
      "after: 0.7953571855293727\n",
      "static_accuracy: 0.7797435407186467\n",
      "before 0.7792101255847469\n",
      "after: 0.7871288377099316\n",
      "static_accuracy: 0.8032208693560785\n",
      "before 0.8047626829394425\n",
      "static_accuracy: 0.8179047921462783\n",
      "before 0.8155074150553783\n",
      "static_accuracy: 0.8063966525010412\n",
      "before 0.806217388647889\n",
      "static_accuracy: 0.7889858731863612\n",
      "before 0.7972135632445165\n",
      "static_accuracy: 0.8002637670368624\n",
      "before 0.8036504182716884\n",
      "static_accuracy: 0.7947650325180377\n",
      "before 0.7968700065434938\n",
      "static_accuracy: 0.8045129704055535\n",
      "before 0.8059376557026696\n",
      "static_accuracy: 0.8245429300010226\n",
      "before 0.8253259995768986\n",
      "static_accuracy: 0.7955261067681118\n",
      "before 0.7999057075382254\n",
      "static_accuracy: 0.79069192716378\n",
      "before 0.7912646331077476\n",
      "static_accuracy: 0.7958696129922\n",
      "before 0.7996905343227213\n",
      "static_accuracy: 0.8068527847149978\n",
      "before 0.8097222222222221\n",
      "static_accuracy: 0.7772438625204582\n",
      "before 0.7763843572358058\n",
      "after: 0.7871403979116692\n",
      "static_accuracy: 0.8133208238302577\n",
      "before 0.8142805403951069\n",
      "static_accuracy: 0.8016142451298701\n",
      "before 0.8050008453299479\n",
      "static_accuracy: 0.8079622965768799\n",
      "before 0.8039438769478657\n",
      "static_accuracy: 0.7986009138976765\n",
      "before 0.8051049695283007\n",
      "static_accuracy: 0.8132078611202096\n",
      "before 0.8107316838229176\n"
     ]
    },
    {
     "name": "stderr",
     "output_type": "stream",
     "text": [
      "c:\\Users\\Anas\\AppData\\Local\\Programs\\Python\\Python311\\Lib\\site-packages\\xgboost\\core.py:160: UserWarning: [19:59:48] WARNING: C:\\buildkite-agent\\builds\\buildkite-windows-cpu-autoscaling-group-i-07f6e447eee219473-1\\xgboost\\xgboost-ci-windows\\src\\learner.cc:742: \n",
      "Parameters: { \"min_samples_leaf\", \"min_samples_split\" } are not used.\n",
      "\n",
      "  warnings.warn(smsg, UserWarning)\n"
     ]
    },
    {
     "name": "stdout",
     "output_type": "stream",
     "text": [
      "static_accuracy: 0.8209915110356537\n",
      "before 0.8208374440747964\n",
      "static_accuracy: 0.7949433344251556\n",
      "before 0.7942934553872053\n",
      "static_accuracy: 0.7975936436234572\n",
      "before 0.7932018744259517\n",
      "static_accuracy: 0.8093669170169723\n",
      "before 0.8038034685102657\n",
      "static_accuracy: 0.8088776726065362\n",
      "before 0.806969696969697\n",
      "static_accuracy: 0.8093353745132956\n",
      "before 0.8054959606259688\n",
      "static_accuracy: 0.7904197377629303\n",
      "before 0.7883027654171013\n"
     ]
    },
    {
     "name": "stderr",
     "output_type": "stream",
     "text": [
      "c:\\Users\\Anas\\AppData\\Local\\Programs\\Python\\Python311\\Lib\\site-packages\\xgboost\\core.py:160: UserWarning: [19:59:48] WARNING: C:\\buildkite-agent\\builds\\buildkite-windows-cpu-autoscaling-group-i-07f6e447eee219473-1\\xgboost\\xgboost-ci-windows\\src\\learner.cc:742: \n",
      "Parameters: { \"min_samples_leaf\", \"min_samples_split\" } are not used.\n",
      "\n",
      "  warnings.warn(smsg, UserWarning)\n",
      "c:\\Users\\Anas\\AppData\\Local\\Programs\\Python\\Python311\\Lib\\site-packages\\xgboost\\core.py:160: UserWarning: [19:59:48] WARNING: C:\\buildkite-agent\\builds\\buildkite-windows-cpu-autoscaling-group-i-07f6e447eee219473-1\\xgboost\\xgboost-ci-windows\\src\\learner.cc:742: \n",
      "Parameters: { \"min_samples_leaf\", \"min_samples_split\" } are not used.\n",
      "\n",
      "  warnings.warn(smsg, UserWarning)\n",
      "c:\\Users\\Anas\\AppData\\Local\\Programs\\Python\\Python311\\Lib\\site-packages\\xgboost\\core.py:160: UserWarning: [19:59:48] WARNING: C:\\buildkite-agent\\builds\\buildkite-windows-cpu-autoscaling-group-i-07f6e447eee219473-1\\xgboost\\xgboost-ci-windows\\src\\learner.cc:742: \n",
      "Parameters: { \"min_samples_leaf\", \"min_samples_split\" } are not used.\n",
      "\n",
      "  warnings.warn(smsg, UserWarning)\n"
     ]
    },
    {
     "name": "stdout",
     "output_type": "stream",
     "text": [
      "after: 0.7985084066498294\n",
      "static_accuracy: 0.7659521693335906\n",
      "before 0.7711757507435125\n",
      "after: 0.7812392880685564\n",
      "static_accuracy: 0.808910016510732\n",
      "before 0.8075315389356894\n",
      "static_accuracy: 0.7866079203815053\n",
      "before 0.7836602316602317\n",
      "after: 0.7913565139596067\n",
      "static_accuracy: 0.8054189117802429\n",
      "before 0.81020580783473\n",
      "static_accuracy: 0.8214004012247914\n",
      "before 0.8239979572614166\n",
      "static_accuracy: 0.7885852519479459\n",
      "before 0.7879627699036622\n",
      "after: 0.7987112365894975\n",
      "static_accuracy: 0.8073876945565258\n",
      "before 0.803392758647304\n",
      "static_accuracy: 0.7929253559453864\n",
      "before 0.7925222356578097\n",
      "static_accuracy: 0.7972058074315548\n",
      "before 0.7943497983306861\n",
      "static_accuracy: 0.7928276207523959\n",
      "before 0.7953371766444937\n"
     ]
    },
    {
     "name": "stderr",
     "output_type": "stream",
     "text": [
      "c:\\Users\\Anas\\AppData\\Local\\Programs\\Python\\Python311\\Lib\\site-packages\\xgboost\\core.py:160: UserWarning: [19:59:48] WARNING: C:\\buildkite-agent\\builds\\buildkite-windows-cpu-autoscaling-group-i-07f6e447eee219473-1\\xgboost\\xgboost-ci-windows\\src\\learner.cc:742: \n",
      "Parameters: { \"min_samples_leaf\", \"min_samples_split\" } are not used.\n",
      "\n",
      "  warnings.warn(smsg, UserWarning)\n"
     ]
    },
    {
     "name": "stdout",
     "output_type": "stream",
     "text": [
      "static_accuracy: 0.8065108225108224\n",
      "before 0.8105180276749172\n",
      "static_accuracy: 0.7949097552171959\n",
      "before 0.796991889681996\n",
      "static_accuracy: 0.796015918182193\n",
      "before 0.7916447725648964\n",
      "static_accuracy: 0.8047430751067115\n",
      "before 0.8049307484967863\n",
      "static_accuracy: 0.8122759699927402\n",
      "before 0.8135876979372012\n",
      "static_accuracy: 0.7932670341448477\n",
      "before 0.8025762068140109\n",
      "static_accuracy: 0.7985459340410253\n",
      "before 0.8006554007002815\n",
      "static_accuracy: 0.8082880426166091\n",
      "before 0.8080607578397213\n",
      "static_accuracy: 0.7937142157938263\n",
      "before 0.7931771352158807\n",
      "static_accuracy: 0.8295737451737453\n",
      "before 0.827314340676756\n",
      "static_accuracy: 0.820582297192007\n",
      "before 0.8194718063830146\n",
      "static_accuracy: 0.7847186631176712\n",
      "before 0.787183394750504\n",
      "after: 0.7951906167717226\n",
      "static_accuracy: 0.7861785610330502\n",
      "before 0.7949326115315212\n",
      "static_accuracy: 0.7977304374763512\n",
      "before 0.803076474792457\n",
      "static_accuracy: 0.8172568916183962\n",
      "before 0.8197726772365069\n",
      "static_accuracy: 0.7991401810747407\n",
      "before 0.8032524935395791\n"
     ]
    },
    {
     "name": "stderr",
     "output_type": "stream",
     "text": [
      "c:\\Users\\Anas\\AppData\\Local\\Programs\\Python\\Python311\\Lib\\site-packages\\xgboost\\core.py:160: UserWarning: [19:59:49] WARNING: C:\\buildkite-agent\\builds\\buildkite-windows-cpu-autoscaling-group-i-07f6e447eee219473-1\\xgboost\\xgboost-ci-windows\\src\\learner.cc:742: \n",
      "Parameters: { \"min_samples_leaf\", \"min_samples_split\" } are not used.\n",
      "\n",
      "  warnings.warn(smsg, UserWarning)\n"
     ]
    },
    {
     "name": "stdout",
     "output_type": "stream",
     "text": [
      "static_accuracy: 0.8307653592104939\n",
      "before 0.837390962976355\n",
      "static_accuracy: 0.7974107744107743\n",
      "before 0.8024808294002228\n",
      "static_accuracy: 0.7869182224060953\n",
      "before 0.781587079881567\n",
      "after: 0.7886032206786924\n",
      "static_accuracy: 0.8267977000432729\n",
      "before 0.8266215165798395\n",
      "static_accuracy: 0.794513496314366\n",
      "before 0.7912227183729694\n",
      "static_accuracy: 0.8023724578957524\n",
      "before 0.8044861214476694\n",
      "static_accuracy: 0.8026168213109848\n",
      "before 0.8037724116326423\n"
     ]
    },
    {
     "name": "stderr",
     "output_type": "stream",
     "text": [
      "c:\\Users\\Anas\\AppData\\Local\\Programs\\Python\\Python311\\Lib\\site-packages\\xgboost\\core.py:160: UserWarning: [19:59:49] WARNING: C:\\buildkite-agent\\builds\\buildkite-windows-cpu-autoscaling-group-i-07f6e447eee219473-1\\xgboost\\xgboost-ci-windows\\src\\learner.cc:742: \n",
      "Parameters: { \"min_samples_leaf\", \"min_samples_split\" } are not used.\n",
      "\n",
      "  warnings.warn(smsg, UserWarning)\n"
     ]
    },
    {
     "name": "stdout",
     "output_type": "stream",
     "text": [
      "static_accuracy: 0.7932090536517198\n",
      "before 0.7951054281124658\n",
      "static_accuracy: 0.7860063493729339\n",
      "before 0.7841150343924009\n",
      "after: 0.7935925274725275\n",
      "static_accuracy: 0.7777551326105124\n",
      "before 0.7800903566337586\n"
     ]
    },
    {
     "name": "stderr",
     "output_type": "stream",
     "text": [
      "c:\\Users\\Anas\\AppData\\Local\\Programs\\Python\\Python311\\Lib\\site-packages\\xgboost\\core.py:160: UserWarning: [19:59:49] WARNING: C:\\buildkite-agent\\builds\\buildkite-windows-cpu-autoscaling-group-i-07f6e447eee219473-1\\xgboost\\xgboost-ci-windows\\src\\learner.cc:742: \n",
      "Parameters: { \"min_samples_leaf\", \"min_samples_split\" } are not used.\n",
      "\n",
      "  warnings.warn(smsg, UserWarning)\n",
      "c:\\Users\\Anas\\AppData\\Local\\Programs\\Python\\Python311\\Lib\\site-packages\\xgboost\\core.py:160: UserWarning: [19:59:50] WARNING: C:\\buildkite-agent\\builds\\buildkite-windows-cpu-autoscaling-group-i-07f6e447eee219473-1\\xgboost\\xgboost-ci-windows\\src\\learner.cc:742: \n",
      "Parameters: { \"min_samples_leaf\", \"min_samples_split\" } are not used.\n",
      "\n",
      "  warnings.warn(smsg, UserWarning)\n"
     ]
    },
    {
     "name": "stdout",
     "output_type": "stream",
     "text": [
      "after: 0.7881560173257283\n",
      "static_accuracy: 0.7848508848828982\n",
      "before 0.7912198582195592\n",
      "static_accuracy: 0.803672877846791\n",
      "before 0.8009945508057232\n",
      "static_accuracy: 0.8147915902510593\n",
      "before 0.8169082577910474\n",
      "static_accuracy: 0.8088833135584078\n",
      "before 0.8065958946713665\n",
      "static_accuracy: 0.7709131167000202\n",
      "before 0.7754047269500686\n",
      "after: 0.7874186684280223\n"
     ]
    },
    {
     "name": "stderr",
     "output_type": "stream",
     "text": [
      "c:\\Users\\Anas\\AppData\\Local\\Programs\\Python\\Python311\\Lib\\site-packages\\xgboost\\core.py:160: UserWarning: [19:59:50] WARNING: C:\\buildkite-agent\\builds\\buildkite-windows-cpu-autoscaling-group-i-07f6e447eee219473-1\\xgboost\\xgboost-ci-windows\\src\\learner.cc:742: \n",
      "Parameters: { \"min_samples_leaf\", \"min_samples_split\" } are not used.\n",
      "\n",
      "  warnings.warn(smsg, UserWarning)\n"
     ]
    },
    {
     "name": "stdout",
     "output_type": "stream",
     "text": [
      "static_accuracy: 0.789872408124304\n",
      "before 0.7957889960294952\n",
      "static_accuracy: 0.7974424894272438\n",
      "before 0.8026168213109848\n",
      "static_accuracy: 0.8144630158203341\n",
      "before 0.813310332687907\n",
      "static_accuracy: 0.7932593220466442\n",
      "before 0.7945628502880012\n",
      "static_accuracy: 0.8221213291511685\n",
      "before 0.8265105432895063\n",
      "static_accuracy: 0.8038361365063856\n",
      "before 0.8020633752293327\n",
      "static_accuracy: 0.7757351937011882\n",
      "before 0.7778609264623142\n",
      "after: 0.7866017911289755\n",
      "static_accuracy: 0.767168468049163\n",
      "before 0.7661973709277956\n"
     ]
    },
    {
     "name": "stderr",
     "output_type": "stream",
     "text": [
      "c:\\Users\\Anas\\AppData\\Local\\Programs\\Python\\Python311\\Lib\\site-packages\\xgboost\\core.py:160: UserWarning: [19:59:50] WARNING: C:\\buildkite-agent\\builds\\buildkite-windows-cpu-autoscaling-group-i-07f6e447eee219473-1\\xgboost\\xgboost-ci-windows\\src\\learner.cc:742: \n",
      "Parameters: { \"min_samples_leaf\", \"min_samples_split\" } are not used.\n",
      "\n",
      "  warnings.warn(smsg, UserWarning)\n",
      "c:\\Users\\Anas\\AppData\\Local\\Programs\\Python\\Python311\\Lib\\site-packages\\xgboost\\core.py:160: UserWarning: [19:59:50] WARNING: C:\\buildkite-agent\\builds\\buildkite-windows-cpu-autoscaling-group-i-07f6e447eee219473-1\\xgboost\\xgboost-ci-windows\\src\\learner.cc:742: \n",
      "Parameters: { \"min_samples_leaf\", \"min_samples_split\" } are not used.\n",
      "\n",
      "  warnings.warn(smsg, UserWarning)\n"
     ]
    },
    {
     "name": "stdout",
     "output_type": "stream",
     "text": [
      "after: 0.7737562677484786\n",
      "static_accuracy: 0.8224809267038886\n",
      "before 0.8236453598378616\n",
      "static_accuracy: 0.7946158215010142\n",
      "before 0.7986279997963761\n",
      "static_accuracy: 0.7966694495767112\n",
      "before 0.8064001148010941\n",
      "static_accuracy: 0.8256874861880538\n",
      "before 0.8280942955362214\n",
      "static_accuracy: 0.7944653688094311\n",
      "before 0.8007511133102425\n",
      "static_accuracy: 0.802290244909191\n",
      "before 0.7982779173592053\n",
      "static_accuracy: 0.7885496624305847\n",
      "before 0.7908182826235672\n",
      "static_accuracy: 0.8059821463293912\n",
      "before 0.8115020530048526\n",
      "static_accuracy: 0.8092252134365276\n",
      "before 0.8077568\n",
      "static_accuracy: 0.8070982715274441\n",
      "before 0.8090116914844748\n",
      "static_accuracy: 0.8093221202348466\n",
      "before 0.8111688197259689\n",
      "static_accuracy: 0.8086025974025974\n",
      "before 0.814955991617451\n",
      "static_accuracy: 0.8180165153261714\n",
      "before 0.8197744879509016\n",
      "static_accuracy: 0.8148866509912371\n",
      "before 0.821065340909091\n",
      "static_accuracy: 0.7898337886323817\n",
      "before 0.7931599859774308\n",
      "static_accuracy: 0.7857728\n",
      "before 0.7882145144659625\n",
      "after: 0.7924291509940029\n"
     ]
    },
    {
     "name": "stderr",
     "output_type": "stream",
     "text": [
      "c:\\Users\\Anas\\AppData\\Local\\Programs\\Python\\Python311\\Lib\\site-packages\\xgboost\\core.py:160: UserWarning: [19:59:51] WARNING: C:\\buildkite-agent\\builds\\buildkite-windows-cpu-autoscaling-group-i-07f6e447eee219473-1\\xgboost\\xgboost-ci-windows\\src\\learner.cc:742: \n",
      "Parameters: { \"min_samples_leaf\", \"min_samples_split\" } are not used.\n",
      "\n",
      "  warnings.warn(smsg, UserWarning)\n",
      "c:\\Users\\Anas\\AppData\\Local\\Programs\\Python\\Python311\\Lib\\site-packages\\xgboost\\core.py:160: UserWarning: [19:59:51] WARNING: C:\\buildkite-agent\\builds\\buildkite-windows-cpu-autoscaling-group-i-07f6e447eee219473-1\\xgboost\\xgboost-ci-windows\\src\\learner.cc:742: \n",
      "Parameters: { \"min_samples_leaf\", \"min_samples_split\" } are not used.\n",
      "\n",
      "  warnings.warn(smsg, UserWarning)\n"
     ]
    },
    {
     "name": "stdout",
     "output_type": "stream",
     "text": [
      "static_accuracy: 0.8098615735404275\n",
      "before 0.820010812535451\n",
      "static_accuracy: 0.80411961337262\n",
      "before 0.8032608143140344\n",
      "static_accuracy: 0.8084796020409142\n",
      "before 0.8079478648833163\n",
      "static_accuracy: 0.8270561077795121\n",
      "before 0.8274982372281569\n",
      "static_accuracy: 0.7961523164690273\n",
      "before 0.7965515538316779\n",
      "static_accuracy: 0.8002365818597482\n",
      "before 0.8025008081412751\n",
      "static_accuracy: 0.7869120041504138\n",
      "before 0.7866079203815053\n",
      "after: 0.7998837764892752\n",
      "static_accuracy: 0.7956420518757408\n",
      "before 0.7998774497643265\n",
      "static_accuracy: 0.7870896628142193\n",
      "before 0.7861404860502276\n",
      "after: 0.7930601887751009\n",
      "static_accuracy: 0.8099924933823239\n",
      "before 0.8038623737373737\n",
      "static_accuracy: 0.8145938143928875\n",
      "before 0.8119408112516378\n",
      "static_accuracy: 0.8064878015066694\n",
      "before 0.8013110253110254\n",
      "static_accuracy: 0.8080859439641103\n",
      "before 0.8084525760649086\n",
      "static_accuracy: 0.8293525333333334\n",
      "before 0.8241368881207747\n",
      "static_accuracy: 0.7991438132212293\n",
      "before 0.7947296475807113\n"
     ]
    },
    {
     "name": "stderr",
     "output_type": "stream",
     "text": [
      "c:\\Users\\Anas\\AppData\\Local\\Programs\\Python\\Python311\\Lib\\site-packages\\xgboost\\core.py:160: UserWarning: [19:59:51] WARNING: C:\\buildkite-agent\\builds\\buildkite-windows-cpu-autoscaling-group-i-07f6e447eee219473-1\\xgboost\\xgboost-ci-windows\\src\\learner.cc:742: \n",
      "Parameters: { \"min_samples_leaf\", \"min_samples_split\" } are not used.\n",
      "\n",
      "  warnings.warn(smsg, UserWarning)\n"
     ]
    },
    {
     "name": "stdout",
     "output_type": "stream",
     "text": [
      "static_accuracy: 0.8227978442691047\n",
      "before 0.8210325074407637\n",
      "static_accuracy: 0.8180400749733217\n",
      "before 0.8092407904793099\n",
      "static_accuracy: 0.8302987732459289\n",
      "before 0.82436277691654\n",
      "static_accuracy: 0.797263596031298\n",
      "before 0.794027305542929\n",
      "static_accuracy: 0.800343716433942\n",
      "before 0.7998716746190341\n",
      "static_accuracy: 0.7893353399846905\n",
      "before 0.785955912548265\n",
      "after: 0.7976837528230525\n",
      "static_accuracy: 0.8095172413793105\n",
      "before 0.8074240242516104\n"
     ]
    },
    {
     "name": "stderr",
     "output_type": "stream",
     "text": [
      "c:\\Users\\Anas\\AppData\\Local\\Programs\\Python\\Python311\\Lib\\site-packages\\xgboost\\core.py:160: UserWarning: [19:59:51] WARNING: C:\\buildkite-agent\\builds\\buildkite-windows-cpu-autoscaling-group-i-07f6e447eee219473-1\\xgboost\\xgboost-ci-windows\\src\\learner.cc:742: \n",
      "Parameters: { \"min_samples_leaf\", \"min_samples_split\" } are not used.\n",
      "\n",
      "  warnings.warn(smsg, UserWarning)\n"
     ]
    },
    {
     "name": "stdout",
     "output_type": "stream",
     "text": [
      "static_accuracy: 0.8293493784041847\n",
      "before 0.8355702059465356\n",
      "static_accuracy: 0.8015336146010977\n",
      "before 0.8051894736842105\n",
      "static_accuracy: 0.7982973164179898\n",
      "before 0.8023349088743095\n",
      "static_accuracy: 0.7926128631648914\n",
      "before 0.7881862625813293\n",
      "after: 0.7977970050899688\n",
      "static_accuracy: 0.8177475464773\n",
      "before 0.8153271488842574\n",
      "static_accuracy: 0.7955208318794055\n",
      "before 0.7938280164987209\n",
      "static_accuracy: 0.7758374454549162\n",
      "before 0.7773451810547756\n"
     ]
    },
    {
     "name": "stderr",
     "output_type": "stream",
     "text": [
      "c:\\Users\\Anas\\AppData\\Local\\Programs\\Python\\Python311\\Lib\\site-packages\\xgboost\\core.py:160: UserWarning: [19:59:52] WARNING: C:\\buildkite-agent\\builds\\buildkite-windows-cpu-autoscaling-group-i-07f6e447eee219473-1\\xgboost\\xgboost-ci-windows\\src\\learner.cc:742: \n",
      "Parameters: { \"min_samples_leaf\", \"min_samples_split\" } are not used.\n",
      "\n",
      "  warnings.warn(smsg, UserWarning)\n",
      "c:\\Users\\Anas\\AppData\\Local\\Programs\\Python\\Python311\\Lib\\site-packages\\xgboost\\core.py:160: UserWarning: [19:59:52] WARNING: C:\\buildkite-agent\\builds\\buildkite-windows-cpu-autoscaling-group-i-07f6e447eee219473-1\\xgboost\\xgboost-ci-windows\\src\\learner.cc:742: \n",
      "Parameters: { \"min_samples_leaf\", \"min_samples_split\" } are not used.\n",
      "\n",
      "  warnings.warn(smsg, UserWarning)\n"
     ]
    },
    {
     "name": "stdout",
     "output_type": "stream",
     "text": [
      "after: 0.7868497553982168\n",
      "static_accuracy: 0.8124663102943255\n",
      "before 0.8153450359164645\n",
      "static_accuracy: 0.7932593220466442\n",
      "before 0.797623056189094\n",
      "static_accuracy: 0.8032057183361345\n",
      "before 0.8066998310493712\n",
      "static_accuracy: 0.7971234072204588\n",
      "before 0.7998056722588395\n",
      "static_accuracy: 0.801367921475569\n",
      "before 0.8126522041803721\n",
      "static_accuracy: 0.7861898039215687\n",
      "before 0.7930430555555557\n",
      "static_accuracy: 0.8180996147495873\n",
      "before 0.8216110304789549\n",
      "static_accuracy: 0.782187165621308\n",
      "before 0.7850328770989136\n",
      "after: 0.7908045275101572\n",
      "static_accuracy: 0.7868940025000666\n",
      "before 0.7859438575001276\n",
      "after: 0.7928024038405158\n"
     ]
    },
    {
     "name": "stderr",
     "output_type": "stream",
     "text": [
      "c:\\Users\\Anas\\AppData\\Local\\Programs\\Python\\Python311\\Lib\\site-packages\\xgboost\\core.py:160: UserWarning: [19:59:52] WARNING: C:\\buildkite-agent\\builds\\buildkite-windows-cpu-autoscaling-group-i-07f6e447eee219473-1\\xgboost\\xgboost-ci-windows\\src\\learner.cc:742: \n",
      "Parameters: { \"min_samples_leaf\", \"min_samples_split\" } are not used.\n",
      "\n",
      "  warnings.warn(smsg, UserWarning)\n",
      "c:\\Users\\Anas\\AppData\\Local\\Programs\\Python\\Python311\\Lib\\site-packages\\xgboost\\core.py:160: UserWarning: [19:59:52] WARNING: C:\\buildkite-agent\\builds\\buildkite-windows-cpu-autoscaling-group-i-07f6e447eee219473-1\\xgboost\\xgboost-ci-windows\\src\\learner.cc:742: \n",
      "Parameters: { \"min_samples_leaf\", \"min_samples_split\" } are not used.\n",
      "\n",
      "  warnings.warn(smsg, UserWarning)\n"
     ]
    },
    {
     "name": "stdout",
     "output_type": "stream",
     "text": [
      "static_accuracy: 0.7931915052646674\n",
      "before 0.7967847023518737\n",
      "static_accuracy: 0.8133497455754218\n",
      "before 0.8162330389024619\n",
      "static_accuracy: 0.8139882837497153\n",
      "before 0.8163499032441539\n",
      "static_accuracy: 0.8031142072416069\n",
      "before 0.8074717257959025\n",
      "static_accuracy: 0.8049140361326186\n",
      "before 0.8056997907415914\n",
      "static_accuracy: 0.8022576654138436\n",
      "before 0.8051227038160164\n",
      "static_accuracy: 0.8128500405844155\n",
      "before 0.8163803056027165\n",
      "static_accuracy: 0.7788570851720458\n",
      "before 0.7857030239833159\n"
     ]
    },
    {
     "name": "stderr",
     "output_type": "stream",
     "text": [
      "c:\\Users\\Anas\\AppData\\Local\\Programs\\Python\\Python311\\Lib\\site-packages\\xgboost\\core.py:160: UserWarning: [19:59:53] WARNING: C:\\buildkite-agent\\builds\\buildkite-windows-cpu-autoscaling-group-i-07f6e447eee219473-1\\xgboost\\xgboost-ci-windows\\src\\learner.cc:742: \n",
      "Parameters: { \"min_samples_leaf\", \"min_samples_split\" } are not used.\n",
      "\n",
      "  warnings.warn(smsg, UserWarning)\n",
      "c:\\Users\\Anas\\AppData\\Local\\Programs\\Python\\Python311\\Lib\\site-packages\\xgboost\\core.py:160: UserWarning: [19:59:53] WARNING: C:\\buildkite-agent\\builds\\buildkite-windows-cpu-autoscaling-group-i-07f6e447eee219473-1\\xgboost\\xgboost-ci-windows\\src\\learner.cc:742: \n",
      "Parameters: { \"min_samples_leaf\", \"min_samples_split\" } are not used.\n",
      "\n",
      "  warnings.warn(smsg, UserWarning)\n"
     ]
    },
    {
     "name": "stdout",
     "output_type": "stream",
     "text": [
      "after: 0.790454449966078\n",
      "static_accuracy: 0.7984105668684645\n",
      "before 0.794027305542929\n",
      "static_accuracy: 0.7719536679536679\n",
      "before 0.7700123987339006\n",
      "after: 0.7844077667401079\n",
      "static_accuracy: 0.7974836277594042\n",
      "before 0.7946267420835856\n",
      "static_accuracy: 0.824820359281437\n",
      "before 0.8213552575532805\n",
      "static_accuracy: 0.7991121277759969\n",
      "before 0.796809155554307\n",
      "static_accuracy: 0.7823482495334337\n",
      "before 0.7894036894036894\n"
     ]
    },
    {
     "name": "stderr",
     "output_type": "stream",
     "text": [
      "c:\\Users\\Anas\\AppData\\Local\\Programs\\Python\\Python311\\Lib\\site-packages\\xgboost\\core.py:160: UserWarning: [19:59:53] WARNING: C:\\buildkite-agent\\builds\\buildkite-windows-cpu-autoscaling-group-i-07f6e447eee219473-1\\xgboost\\xgboost-ci-windows\\src\\learner.cc:742: \n",
      "Parameters: { \"min_samples_leaf\", \"min_samples_split\" } are not used.\n",
      "\n",
      "  warnings.warn(smsg, UserWarning)\n",
      "c:\\Users\\Anas\\AppData\\Local\\Programs\\Python\\Python311\\Lib\\site-packages\\xgboost\\core.py:160: UserWarning: [19:59:53] WARNING: C:\\buildkite-agent\\builds\\buildkite-windows-cpu-autoscaling-group-i-07f6e447eee219473-1\\xgboost\\xgboost-ci-windows\\src\\learner.cc:742: \n",
      "Parameters: { \"min_samples_leaf\", \"min_samples_split\" } are not used.\n",
      "\n",
      "  warnings.warn(smsg, UserWarning)\n"
     ]
    },
    {
     "name": "stdout",
     "output_type": "stream",
     "text": [
      "after: 0.7930032585628747\n",
      "static_accuracy: 0.8014727375421974\n",
      "before 0.7974581518602087\n",
      "static_accuracy: 0.8136042440228279\n",
      "before 0.8196964579756858\n",
      "static_accuracy: 0.8111483321872933\n",
      "before 0.8077212736022252\n",
      "static_accuracy: 0.778843150436986\n",
      "before 0.786412961776269\n",
      "after: 0.7922253283385084\n",
      "static_accuracy: 0.7957426528991264\n",
      "before 0.800699882751601\n",
      "static_accuracy: 0.7930028189845404\n",
      "before 0.7909013247610331\n",
      "static_accuracy: 0.7917737685745735\n",
      "before 0.7855245723516573\n",
      "after: 0.7982386546958252\n",
      "static_accuracy: 0.7871419455473625\n",
      "before 0.789004563059427\n",
      "after: 0.7923468373038177\n",
      "static_accuracy: 0.7825877393763884\n",
      "before 0.7858175115207373\n"
     ]
    },
    {
     "name": "stderr",
     "output_type": "stream",
     "text": [
      "c:\\Users\\Anas\\AppData\\Local\\Programs\\Python\\Python311\\Lib\\site-packages\\xgboost\\core.py:160: UserWarning: [19:59:53] WARNING: C:\\buildkite-agent\\builds\\buildkite-windows-cpu-autoscaling-group-i-07f6e447eee219473-1\\xgboost\\xgboost-ci-windows\\src\\learner.cc:742: \n",
      "Parameters: { \"min_samples_leaf\", \"min_samples_split\" } are not used.\n",
      "\n",
      "  warnings.warn(smsg, UserWarning)\n",
      "c:\\Users\\Anas\\AppData\\Local\\Programs\\Python\\Python311\\Lib\\site-packages\\xgboost\\core.py:160: UserWarning: [19:59:53] WARNING: C:\\buildkite-agent\\builds\\buildkite-windows-cpu-autoscaling-group-i-07f6e447eee219473-1\\xgboost\\xgboost-ci-windows\\src\\learner.cc:742: \n",
      "Parameters: { \"min_samples_leaf\", \"min_samples_split\" } are not used.\n",
      "\n",
      "  warnings.warn(smsg, UserWarning)\n",
      "c:\\Users\\Anas\\AppData\\Local\\Programs\\Python\\Python311\\Lib\\site-packages\\xgboost\\core.py:160: UserWarning: [19:59:53] WARNING: C:\\buildkite-agent\\builds\\buildkite-windows-cpu-autoscaling-group-i-07f6e447eee219473-1\\xgboost\\xgboost-ci-windows\\src\\learner.cc:742: \n",
      "Parameters: { \"min_samples_leaf\", \"min_samples_split\" } are not used.\n",
      "\n",
      "  warnings.warn(smsg, UserWarning)\n"
     ]
    },
    {
     "name": "stdout",
     "output_type": "stream",
     "text": [
      "after: 0.7934384140609552\n",
      "static_accuracy: 0.8060114610465473\n",
      "before 0.8104277871109647\n",
      "static_accuracy: 0.8118036967058243\n",
      "before 0.8181282045624052\n",
      "static_accuracy: 0.8089854598776447\n",
      "before 0.8171715856806194\n",
      "static_accuracy: 0.79376195885156\n",
      "before 0.7931927019335621\n",
      "static_accuracy: 0.79046640641052\n",
      "before 0.7995972387013267\n",
      "static_accuracy: 0.7951128325269612\n",
      "before 0.7997931588982565\n",
      "static_accuracy: 0.8126848401638854\n",
      "before 0.826131931550103\n",
      "static_accuracy: 0.7974581518602087\n",
      "before 0.8034907246616501\n",
      "static_accuracy: 0.7888267080508312\n",
      "before 0.7960672000000001\n",
      "static_accuracy: 0.7747838217311532\n",
      "before 0.7857176736307171\n"
     ]
    },
    {
     "name": "stderr",
     "output_type": "stream",
     "text": [
      "c:\\Users\\Anas\\AppData\\Local\\Programs\\Python\\Python311\\Lib\\site-packages\\xgboost\\core.py:160: UserWarning: [19:59:54] WARNING: C:\\buildkite-agent\\builds\\buildkite-windows-cpu-autoscaling-group-i-07f6e447eee219473-1\\xgboost\\xgboost-ci-windows\\src\\learner.cc:742: \n",
      "Parameters: { \"min_samples_leaf\", \"min_samples_split\" } are not used.\n",
      "\n",
      "  warnings.warn(smsg, UserWarning)\n"
     ]
    },
    {
     "name": "stdout",
     "output_type": "stream",
     "text": [
      "after: 0.7918425968896674\n",
      "static_accuracy: 0.8021578772454566\n",
      "before 0.8053608334543726\n",
      "static_accuracy: 0.7894365576168376\n",
      "before 0.7978404693213086\n",
      "static_accuracy: 0.7883094891737041\n",
      "before 0.7914747219397122\n",
      "static_accuracy: 0.8163060041502991\n",
      "before 0.8216967201833095\n",
      "static_accuracy: 0.8123932246391297\n",
      "before 0.8128064236111111\n",
      "static_accuracy: 0.7995139689578714\n",
      "before 0.7997528336085542\n",
      "static_accuracy: 0.7768333067329397\n",
      "before 0.7839219866302176\n",
      "after: 0.7874615132656404\n",
      "static_accuracy: 0.8024024919668554\n",
      "before 0.8026123436312115\n",
      "static_accuracy: 0.7824844720496894\n",
      "before 0.7924438251425086\n",
      "static_accuracy: 0.7915314119842422\n",
      "before 0.7979865478009074\n",
      "static_accuracy: 0.8140884302028439\n",
      "before 0.8221165592675337\n",
      "static_accuracy: 0.8217782120175866\n",
      "before 0.82431228675484\n"
     ]
    },
    {
     "name": "stderr",
     "output_type": "stream",
     "text": [
      "c:\\Users\\Anas\\AppData\\Local\\Programs\\Python\\Python311\\Lib\\site-packages\\xgboost\\core.py:160: UserWarning: [19:59:54] WARNING: C:\\buildkite-agent\\builds\\buildkite-windows-cpu-autoscaling-group-i-07f6e447eee219473-1\\xgboost\\xgboost-ci-windows\\src\\learner.cc:742: \n",
      "Parameters: { \"min_samples_leaf\", \"min_samples_split\" } are not used.\n",
      "\n",
      "  warnings.warn(smsg, UserWarning)\n"
     ]
    }
   ],
   "source": [
    "for i in range (260):\n",
    "    df = consume_messages()\n",
    "    dynamic_model = evaluate_and_retrain_model(df, dynamic_model,static_model)"
   ]
  },
  {
   "cell_type": "markdown",
   "metadata": {},
   "source": [
    "### Plot the performance of static and dynamic models over time\n"
   ]
  },
  {
   "cell_type": "code",
   "execution_count": 13,
   "metadata": {},
   "outputs": [
    {
     "data": {
      "image/png": "[encoded data removed]",
      "text/plain": [
       "<Figure size 1000x600 with 1 Axes>"
      ]
     },
     "metadata": {},
     "output_type": "display_data"
    }
   ],
   "source": [
    "plt.figure(figsize=(10, 6))\n",
    "plt.plot(static_model_performance, label='Static Model')\n",
    "plt.plot(dynamic_model_performance, label='Dynamic Model')\n",
    "plt.xlabel('Time (in windows of 1000 observations)')\n",
    "plt.ylabel('Accuracy')\n",
    "plt.legend()\n",
    "plt.show()"
   ]
  }
 ],
 "metadata": {
  "kernelspec": {
   "display_name": "Python 3",
   "language": "python",
   "name": "python3"
  },
  "language_info": {
   "codemirror_mode": {
    "name": "ipython",
    "version": 3
   },
   "file_extension": ".py",
   "mimetype": "text/x-python",
   "name": "python",
   "nbconvert_exporter": "python",
   "pygments_lexer": "ipython3",
   "version": "3.11.5"
  }
 },
 "nbformat": 4,
 "nbformat_minor": 2
}
